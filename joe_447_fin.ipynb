{
 "cells": [
  {
   "cell_type": "code",
   "execution_count": 91,
   "metadata": {},
   "outputs": [],
   "source": [
    "import pandas as pd\n",
    "import matplotlib.pyplot as plt\n",
    "import numpy as np"
   ]
  },
  {
   "cell_type": "code",
   "execution_count": 92,
   "metadata": {},
   "outputs": [
    {
     "data": {
      "text/html": [
       "<div>\n",
       "<style scoped>\n",
       "    .dataframe tbody tr th:only-of-type {\n",
       "        vertical-align: middle;\n",
       "    }\n",
       "\n",
       "    .dataframe tbody tr th {\n",
       "        vertical-align: top;\n",
       "    }\n",
       "\n",
       "    .dataframe thead th {\n",
       "        text-align: right;\n",
       "    }\n",
       "</style>\n",
       "<table border=\"1\" class=\"dataframe\">\n",
       "  <thead>\n",
       "    <tr style=\"text-align: right;\">\n",
       "      <th></th>\n",
       "      <th>Team</th>\n",
       "      <th>Stadium</th>\n",
       "      <th>Acreage</th>\n",
       "    </tr>\n",
       "  </thead>\n",
       "  <tbody>\n",
       "    <tr>\n",
       "      <th>0</th>\n",
       "      <td>Los Angeles Chargers</td>\n",
       "      <td>SoFi Stadium</td>\n",
       "      <td>298</td>\n",
       "    </tr>\n",
       "    <tr>\n",
       "      <th>1</th>\n",
       "      <td>Los Angeles Rams</td>\n",
       "      <td>SoFi Stadium</td>\n",
       "      <td>298</td>\n",
       "    </tr>\n",
       "    <tr>\n",
       "      <th>2</th>\n",
       "      <td>Washington Football Team</td>\n",
       "      <td>FedExField</td>\n",
       "      <td>207</td>\n",
       "    </tr>\n",
       "    <tr>\n",
       "      <th>3</th>\n",
       "      <td>Las Vegas Raiders</td>\n",
       "      <td>Allegiant Stadium</td>\n",
       "      <td>62</td>\n",
       "    </tr>\n",
       "    <tr>\n",
       "      <th>4</th>\n",
       "      <td>Dallas Cowboys</td>\n",
       "      <td>AT&amp;T Stadium</td>\n",
       "      <td>73</td>\n",
       "    </tr>\n",
       "  </tbody>\n",
       "</table>\n",
       "</div>"
      ],
      "text/plain": [
       "                       Team            Stadium  Acreage\n",
       "0      Los Angeles Chargers       SoFi Stadium      298\n",
       "1          Los Angeles Rams       SoFi Stadium      298\n",
       "2  Washington Football Team         FedExField      207\n",
       "3         Las Vegas Raiders  Allegiant Stadium       62\n",
       "4            Dallas Cowboys       AT&T Stadium       73"
      ]
     },
     "execution_count": 92,
     "metadata": {},
     "output_type": "execute_result"
    }
   ],
   "source": [
    "df = pd.read_csv('nfl_stadiums.csv')\n",
    "df.head()"
   ]
  },
  {
   "cell_type": "code",
   "execution_count": 93,
   "metadata": {},
   "outputs": [
    {
     "name": "stderr",
     "output_type": "stream",
     "text": [
      "/var/folders/m4/bw9c_p2j76z4dr9m73_jbnd00000gn/T/ipykernel_16276/1303201834.py:34: UserWarning: FixedFormatter should only be used together with FixedLocator\n",
      "  ax.set_xticklabels(sorted_df['Stadium'], rotation=90)\n"
     ]
    }
   ],
   "source": [
    "\n",
    "# Calculate the average acreage\n",
    "average_acreage = df[df['Team'] != 'Washington Commanders']['Acreage'].mean()\n",
    "df = df[df['Stadium'] != 'FedExField']\n",
    "df = df[df['Team'] != 'Los Angeles Chargers']\n",
    "df = df[df['Team'] != 'New York Jets']\n",
    "# Add a column for the number of stadiums\n",
    "df['Stadium Count'] = 0\n",
    "\n",
    "# Group the DataFrame by stadium and team and calculate the total acreage and number of stadiums\n",
    "grouped_df = df.groupby(['Stadium', 'Team'], as_index=False).agg({'Acreage': 'sum', 'Stadium Count': 'sum'})\n",
    "\n",
    "# Calculate the average acreage per stadium\n",
    "grouped_df['Average Acreage'] = grouped_df['Acreage'] / grouped_df['Stadium Count']\n",
    "\n",
    "# Add a row for the average acreage\n",
    "average_row = pd.DataFrame({'Stadium': 'Average', 'Acreage': average_acreage, 'Stadium Count': ''}, index=[len(grouped_df)])\n",
    "grouped_df = pd.concat([grouped_df, average_row], ignore_index=True)\n",
    "\n",
    "# Add row for new purchase \n",
    "new_purchase = pd.DataFrame({'Stadium': 'Land Purchased By Commanders', 'Acreage': 200, 'Stadium Count': ''}, index=[len(grouped_df)])\n",
    "grouped_df = pd.concat([grouped_df, new_purchase], ignore_index=True)\n",
    "\n",
    "# Sort the DataFrame by acreage in descending order\n",
    "sorted_df = grouped_df.sort_values(by=['Acreage'], ascending=False)\n",
    "\n",
    "# Create a vertical bar chart\n",
    "fig, ax = plt.subplots(figsize=(12, 8))\n",
    "ax.bar(sorted_df['Stadium'], sorted_df['Acreage'], color='blue', width=0.5)\n",
    "ax.bar('Land Purchased By Commanders', 200, color='maroon', width=0.5)\n",
    "ax.bar('Average', average_acreage, color='yellow', width=0.5)\n",
    "ax.set_xlabel('Stadium')\n",
    "ax.set_ylabel('Acreage')\n",
    "ax.set_title('Acreage per Unique Stadium')\n",
    "ax.set_xticklabels(sorted_df['Stadium'], rotation=90)\n",
    "\n",
    "plt.show()\n"
   ]
  }
 ],
 "metadata": {
  "kernelspec": {
   "display_name": "Python 3",
   "language": "python",
   "name": "python3"
  },
  "language_info": {
   "codemirror_mode": {
    "name": "ipython",
    "version": 3
   },
   "file_extension": ".py",
   "mimetype": "text/x-python",
   "name": "python",
   "nbconvert_exporter": "python",
   "pygments_lexer": "ipython3",
   "version": "3.10.6"
  },
  "orig_nbformat": 4,
  "vscode": {
   "interpreter": {
    "hash": "aee8b7b246df8f9039afb4144a1f6fd8d2ca17a180786b69acc140d282b71a49"
   }
  }
 },
 "nbformat": 4,
 "nbformat_minor": 2
}
