{
 "cells": [
  {
   "cell_type": "markdown",
   "id": "16c9f5c7",
   "metadata": {
    "scrolled": true
   },
   "source": [
    "Our goal here is to determine which state/territory has the most Washington Commnaders fans in the DMV area in order to determine the best location for the new Washinthon Commanders stadium since the new ownership group is looking into building a new state of the art field that will attract fans and fill up games."
   ]
  },
  {
   "cell_type": "markdown",
   "id": "c5afebd1",
   "metadata": {},
   "source": [
    "First we will import a csv with data that gives us the general population of each state, and the amount of fans belived to be residing in each state as well."
   ]
  },
  {
   "cell_type": "code",
   "execution_count": 2,
   "id": "8ec5a93d",
   "metadata": {
    "scrolled": false
   },
   "outputs": [
    {
     "data": {
      "text/html": [
       "<div>\n",
       "<style scoped>\n",
       "    .dataframe tbody tr th:only-of-type {\n",
       "        vertical-align: middle;\n",
       "    }\n",
       "\n",
       "    .dataframe tbody tr th {\n",
       "        vertical-align: top;\n",
       "    }\n",
       "\n",
       "    .dataframe thead th {\n",
       "        text-align: right;\n",
       "    }\n",
       "</style>\n",
       "<table border=\"1\" class=\"dataframe\">\n",
       "  <thead>\n",
       "    <tr style=\"text-align: right;\">\n",
       "      <th></th>\n",
       "      <th>Virginia Population</th>\n",
       "      <th>Maryland Population</th>\n",
       "      <th>Washington dc population</th>\n",
       "      <th>Commanders fans in Maryland</th>\n",
       "      <th>Commanders fans in Virginia</th>\n",
       "      <th>Commanders fans in Washington dc</th>\n",
       "    </tr>\n",
       "  </thead>\n",
       "  <tbody>\n",
       "    <tr>\n",
       "      <th>0</th>\n",
       "      <td>8,709,873</td>\n",
       "      <td>6,154,710</td>\n",
       "      <td>631,693</td>\n",
       "      <td>1,100,000</td>\n",
       "      <td>1,600,000</td>\n",
       "      <td>183,191</td>\n",
       "    </tr>\n",
       "  </tbody>\n",
       "</table>\n",
       "</div>"
      ],
      "text/plain": [
       "  Virginia Population Maryland Population Washington dc population  \\\n",
       "0          8,709,873            6,154,710                  631,693   \n",
       "\n",
       "  Commanders fans in Maryland Commanders fans in Virginia  \\\n",
       "0                   1,100,000                   1,600,000   \n",
       "\n",
       "  Commanders fans in Washington dc  \n",
       "0                          183,191  "
      ]
     },
     "execution_count": 2,
     "metadata": {},
     "output_type": "execute_result"
    }
   ],
   "source": [
    "import pandas as pd\n",
    "import matplotlib.pyplot as plt\n",
    "\n",
    "df = pd.read_csv('CommandersFansInDMV.csv')\n",
    "\n",
    "df.head()"
   ]
  },
  {
   "cell_type": "markdown",
   "id": "e5653a8c",
   "metadata": {},
   "source": [
    "After retracting the date from the csv, we decided to create a double bar graph that helps us visualize and compare the data more clearly. The first operation converts all commas in the DataFrame to an empty string, and then casts all values to integers. The code then uses matplotlib to create a bar chart showing the total population and the number of Commanders fans in each state. It creates a subplot, defines the width of the bars, and sets the position of the bars using r1 and r2. The ax.bar() function is then used twice to create two sets of bars. The first set of bars shows the total population in each state, while the second set of bars shows the number of Commanders fans in each state. The colors and labels for each set of bars are also defined. Afterwards we used ax.set to label the graph and plt.show() to finally create the visualization. "
   ]
  },
  {
   "cell_type": "code",
   "execution_count": 38,
   "id": "2ffb35ba",
   "metadata": {},
   "outputs": [
    {
     "data": {
      "image/png": "[encoded data removed]",
      "text/plain": [
       "<Figure size 432x288 with 1 Axes>"
      ]
     },
     "metadata": {
      "needs_background": "light"
     },
     "output_type": "display_data"
    }
   ],
   "source": [
    "import pandas as pd\n",
    "import matplotlib.pyplot as plt\n",
    "\n",
    "df = pd.read_csv('CommandersFansInDMV.csv')\n",
    "\n",
    "df = df.replace(',','', regex=True)\n",
    "df = df.astype(int)\n",
    "\n",
    "fig, ax = plt.subplots()\n",
    "\n",
    "bar_width = 0.3\n",
    "\n",
    "r1 = [0, 1, 2]\n",
    "r2 = [x + bar_width for x in r1]\n",
    "\n",
    "ax.bar(r1, [df.loc[0, 'Virginia Population'], df.loc[0, 'Maryland Population'], df.loc[0, 'Washington dc population']],\n",
    "       color='#7f6d5f', width=bar_width, edgecolor='white', label='Total Population')\n",
    "\n",
    "ax.bar(r2, [df.loc[0, 'Commanders fans in Virginia'], df.loc[0, 'Commanders fans in Maryland'], df.loc[0, 'Commanders fans in Washington dc']],\n",
    "       color='#557f2d', width=bar_width, edgecolor='white', label='Commanders Fans')\n",
    "\n",
    "ax.set_xticks([r + bar_width / 2 for r in range(len(r1))])\n",
    "ax.set_xticklabels(['Virginia', 'Maryland', 'Washington DC'])\n",
    "ax.set_xlabel('State')\n",
    "ax.set_ylabel('Population in Millions')\n",
    "ax.set_title('Total Population and Total Commanders Fans in Virginia, Maryland, and Washington DC')\n",
    "ax.legend()\n",
    "\n",
    "plt.show()"
   ]
  },
  {
   "cell_type": "markdown",
   "id": "7da4b6bc",
   "metadata": {},
   "source": [
    "As we can see from the graph above, Virginia has significantly more people and fans living in the state compared to both Maryland and Washington DC."
   ]
  },
  {
   "cell_type": "markdown",
   "id": "7dbedd9c",
   "metadata": {},
   "source": [
    "It's always good to be 100% certain before accessing which state we will favor, so we decided to create a regular bar grapgh that shows the proportions of gen.population/fans. Like the previous code, we made the first operation replace all commas in the DataFrame with an empty string. The next three lines of code create three new columns in the DataFrame that calculate the proportion of Commanders fans in each state by dividing the number of Commanders fans by the total population of each state. The proportion is then stored as a new column in the DataFrame. The colors list is then created, which will be used to color the bars in the bar chart. The ax.bar() function is used to create a bar chart that shows the proportion of Commanders fans in each state. The x-axis labels are set to 'Virginia', 'Maryland', and 'Washington DC', and the y-axis values are set to the values of the new columns created earlier. We then label everything and create the graph using plt.show()."
   ]
  },
  {
   "cell_type": "code",
   "execution_count": 39,
   "id": "cd427f07",
   "metadata": {},
   "outputs": [
    {
     "data": {
      "image/png": "[encoded data removed]",
      "text/plain": [
       "<Figure size 432x288 with 1 Axes>"
      ]
     },
     "metadata": {
      "needs_background": "light"
     },
     "output_type": "display_data"
    }
   ],
   "source": [
    "import pandas as pd\n",
    "import matplotlib.pyplot as plt\n",
    "\n",
    "df = pd.read_csv('CommandersFansInDMV.csv')\n",
    "\n",
    "df = df.replace(',','', regex=True)\n",
    "\n",
    "df['Virginia fans proportion'] = int(float(df['Commanders fans in Virginia'])) / int(float(df['Virginia Population']))\n",
    "df['Maryland fans proportion'] = int(float(df['Commanders fans in Maryland'])) / int(float(df['Maryland Population']))\n",
    "df['Washington DC fans proportion'] = int(float(df['Commanders fans in Washington dc'])) / int(float(df['Washington dc population']))\n",
    "\n",
    "colors = ['tab:red', 'tab:blue', 'tab:green']\n",
    "\n",
    "fig, ax = plt.subplots()\n",
    "ax.bar(['Virginia', 'Maryland', 'Washington DC'],\n",
    "       [df.loc[0, 'Virginia fans proportion'],\n",
    "        df.loc[0, 'Maryland fans proportion'],\n",
    "        df.loc[0, 'Washington DC fans proportion']],\n",
    "       color=colors)\n",
    "ax.set_ylabel('Proportion of Commanders fans')\n",
    "ax.set_title('Proportions of Commanders fans in Virginia, Maryland, and Washington DC')\n",
    "plt.show()"
   ]
  },
  {
   "cell_type": "markdown",
   "id": "d1c6f685",
   "metadata": {},
   "source": [
    "Looking at the graph, we can see Washington DC proportionally is greater than both Virginia and DC. Unfortunatly, taking the very low population into consideration, we decided that Virginia was still the heavy favorite to be the home of the new Washington Commanders stadium."
   ]
  },
  {
   "cell_type": "code",
   "execution_count": null,
   "id": "6a01f822",
   "metadata": {},
   "outputs": [],
   "source": []
  }
 ],
 "metadata": {
  "kernelspec": {
   "display_name": "Python 3 (ipykernel)",
   "language": "python",
   "name": "python3"
  },
  "language_info": {
   "codemirror_mode": {
    "name": "ipython",
    "version": 3
   },
   "file_extension": ".py",
   "mimetype": "text/x-python",
   "name": "python",
   "nbconvert_exporter": "python",
   "pygments_lexer": "ipython3",
   "version": "3.9.7"
  }
 },
 "nbformat": 4,
 "nbformat_minor": 5
}
