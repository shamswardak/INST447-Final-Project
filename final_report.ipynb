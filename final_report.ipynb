{
 "cells": [
  {
   "cell_type": "code",
   "execution_count": 1,
   "metadata": {},
   "outputs": [],
   "source": [
    "import pandas as pd"
   ]
  },
  {
   "cell_type": "code",
   "execution_count": 3,
   "metadata": {},
   "outputs": [
    {
     "data": {
      "text/html": [
       "<div>\n",
       "<style scoped>\n",
       "    .dataframe tbody tr th:only-of-type {\n",
       "        vertical-align: middle;\n",
       "    }\n",
       "\n",
       "    .dataframe tbody tr th {\n",
       "        vertical-align: top;\n",
       "    }\n",
       "\n",
       "    .dataframe thead th {\n",
       "        text-align: right;\n",
       "    }\n",
       "</style>\n",
       "<table border=\"1\" class=\"dataframe\">\n",
       "  <thead>\n",
       "    <tr style=\"text-align: right;\">\n",
       "      <th></th>\n",
       "      <th>State</th>\n",
       "      <th>County</th>\n",
       "      <th>City</th>\n",
       "      <th>Address</th>\n",
       "      <th>Acres</th>\n",
       "      <th>Type</th>\n",
       "      <th>distance_from_dc</th>\n",
       "    </tr>\n",
       "  </thead>\n",
       "  <tbody>\n",
       "    <tr>\n",
       "      <th>0</th>\n",
       "      <td>VA</td>\n",
       "      <td>Fairfax</td>\n",
       "      <td>Oakton</td>\n",
       "      <td>10728 Vale Rd</td>\n",
       "      <td>23.69</td>\n",
       "      <td>undeveloped</td>\n",
       "      <td>20.8</td>\n",
       "    </tr>\n",
       "    <tr>\n",
       "      <th>1</th>\n",
       "      <td>VA</td>\n",
       "      <td>Fairfax</td>\n",
       "      <td>Great Falls</td>\n",
       "      <td>10509 Beach Mill Rd</td>\n",
       "      <td>21.24</td>\n",
       "      <td>residential</td>\n",
       "      <td>21.5</td>\n",
       "    </tr>\n",
       "    <tr>\n",
       "      <th>2</th>\n",
       "      <td>MD</td>\n",
       "      <td>Prince George's County</td>\n",
       "      <td>Fort Washington</td>\n",
       "      <td>11308-11406 Indian Head Highway</td>\n",
       "      <td>30.70</td>\n",
       "      <td>residential</td>\n",
       "      <td>15.2</td>\n",
       "    </tr>\n",
       "    <tr>\n",
       "      <th>3</th>\n",
       "      <td>VA</td>\n",
       "      <td>Fairfax</td>\n",
       "      <td>Great Falls</td>\n",
       "      <td>Utterback Shore Rd</td>\n",
       "      <td>68.78</td>\n",
       "      <td>undeveloped</td>\n",
       "      <td>21.3</td>\n",
       "    </tr>\n",
       "    <tr>\n",
       "      <th>4</th>\n",
       "      <td>VA</td>\n",
       "      <td>Loudoun County</td>\n",
       "      <td>Leesburg</td>\n",
       "      <td>James Monroe Hwy</td>\n",
       "      <td>371.80</td>\n",
       "      <td>undeveloped</td>\n",
       "      <td>39.5</td>\n",
       "    </tr>\n",
       "  </tbody>\n",
       "</table>\n",
       "</div>"
      ],
      "text/plain": [
       "  State                  County             City  \\\n",
       "0    VA                 Fairfax           Oakton   \n",
       "1    VA                 Fairfax      Great Falls   \n",
       "2    MD  Prince George's County  Fort Washington   \n",
       "3    VA                 Fairfax      Great Falls   \n",
       "4    VA          Loudoun County         Leesburg   \n",
       "\n",
       "                           Address   Acres         Type  distance_from_dc  \n",
       "0                    10728 Vale Rd   23.69  undeveloped              20.8  \n",
       "1              10509 Beach Mill Rd   21.24  residential              21.5  \n",
       "2  11308-11406 Indian Head Highway   30.70  residential              15.2  \n",
       "3               Utterback Shore Rd   68.78  undeveloped              21.3  \n",
       "4                 James Monroe Hwy  371.80  undeveloped              39.5  "
      ]
     },
     "execution_count": 3,
     "metadata": {},
     "output_type": "execute_result"
    }
   ],
   "source": [
    "land_df = pd.read_csv('available_land_data.csv')\n",
    "land_df.head()"
   ]
  },
  {
   "cell_type": "code",
   "execution_count": null,
   "metadata": {},
   "outputs": [],
   "source": []
  }
 ],
 "metadata": {
  "kernelspec": {
   "display_name": "Python 3",
   "language": "python",
   "name": "python3"
  },
  "language_info": {
   "codemirror_mode": {
    "name": "ipython",
    "version": 3
   },
   "file_extension": ".py",
   "mimetype": "text/x-python",
   "name": "python",
   "nbconvert_exporter": "python",
   "pygments_lexer": "ipython3",
   "version": "3.10.6"
  },
  "orig_nbformat": 4
 },
 "nbformat": 4,
 "nbformat_minor": 2
}
